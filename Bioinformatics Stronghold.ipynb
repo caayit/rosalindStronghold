{
 "cells": [
  {
   "cell_type": "markdown",
   "id": "5c69b8b1",
   "metadata": {},
   "source": [
    "### Counting DNA Nucleotides\n",
    "\n",
    "**Problem:** A string is simply an ordered collection of symbols selected from some alphabet and formed into a word; the length of a string is the number of symbols that it contains.\n",
    "\n",
    "An example of a length 21 DNA string (whose alphabet contains the symbols 'A', 'C', 'G', and 'T') is \"ATGCTTCAGAAAGGTCTTACG.\"\n",
    "\n",
    "**Given:** A DNA string s\n",
    " of length at most 1000 nt.<br>\n",
    "**Return:** Four integers (separated by spaces) counting the respective number of times that the symbols 'A', 'C', 'G', and 'T' occur in s\n",
    "."
   ]
  },
  {
   "cell_type": "code",
   "execution_count": 2,
   "id": "7a65a1fe",
   "metadata": {},
   "outputs": [],
   "source": [
    "s = \"TAGTCTCACCCATTCCCGAGATGTAGGATTTCCGCGGCGGTCAGATTAGTCGCTCGTCCGAGTGAGTCAGTTGACCTAGCCGGTGGCGTCTTGATCGATAAAAAACGCCCCCAGGCCTGCGTTAGTTCCGCGCCTTCTTAGTCAATGGCTCGAATCCTCGCGAGCTGTCAAGCTGTTGCAGAAAATAATTTTTACTGTAAGACTCGTATAGTTCTGGCTAGGGCAGTATGCGACACTCAACCAATTGGACCGTCCATCGCGTTCTATGCGGAACCTTGTGCGAGTTGTTACTTGCGTAGCCAGCCATCGAGAATCGTATAACGGAGTTTCAACTTCTCTGAGACGCGGACTCTCCAATGACAGATCCCTTAACAATACGCCGGCCCAACTCTTCTTTAGACCCCAACGCGACTAGAGCTCTCTCAACGGGGAATGTCCTAACCAGGCGGGTCTACAGCGCTACATACAGGTAATGGAACGGTCTGGATGCCGTTAACATCCCGTAAATTACCCTGGGCTGACACTACACTACTTGGCTACACTGCTGGGATTCGCATTTTAGCAAGTATAGCATTACCGCGAAGTACGTTGGCTGAATAACTTTCTTTACCTGTATAGCAATATGAACAAGCTTCGAGGACTAGCGAACAAGTACTATGGCTACGGCCTCTCGCATAAACTTGAACGAGTGGTCGGGGACCAAGAAGCTCGCAGGTCAAACCCTCGATATAAAAGGTCTGGCCATCGCTAAGAGGAGACCAGACTTTTGAAATTTTCCGTCGCCAAAATTCAGAGGGTCACAGCGAGAGCTGTGAGTCCGTTCTCGGTTCATTTATATAGTAATGTGGGGCCGATCATCCGGGTTTAACTGCTCTCTTAGGTCCAGAAATGGGCAACGCACGAAC\""
   ]
  },
  {
   "cell_type": "code",
   "execution_count": 7,
   "id": "57af0837",
   "metadata": {},
   "outputs": [
    {
     "name": "stdout",
     "output_type": "stream",
     "text": [
      "228 232 219 226\n"
     ]
    }
   ],
   "source": [
    "# create a dictionary that holds the counts\n",
    "n = {\"A\":0, \"C\":0, \"G\":0, \"T\":0}\n",
    "\n",
    "# loop over the string\n",
    "for nucleotide in s:\n",
    "    n[nucleotide] += 1\n",
    "    \n",
    "print(n[\"A\"], n[\"C\"], n[\"G\"], n[\"T\"])"
   ]
  },
  {
   "cell_type": "markdown",
   "id": "dac932cf",
   "metadata": {},
   "source": [
    "### Transcribing DNA into RNA\n",
    "\n",
    "**Problem:** An RNA string is a string formed from the alphabet containing 'A', 'C', 'G', and 'U'.\n",
    "\n",
    "Given a DNA string t\n",
    " corresponding to a coding strand, its transcribed RNA string u\n",
    " is formed by replacing all occurrences of 'T' in t\n",
    " with 'U' in u\n",
    ".\n",
    "\n",
    "**Given:** A DNA string t\n",
    " having length at most 1000 nt.<br>\n",
    "**Return:** Return: The transcribed RNA string of t\n",
    "."
   ]
  },
  {
   "cell_type": "code",
   "execution_count": 14,
   "id": "157c0471",
   "metadata": {},
   "outputs": [],
   "source": [
    "t = \"TACAGAGTATCTCACTATACGTTACACGATACCGATTGAGGACCTATACTGACCCGCCCCCCGTGCCCCTCGGAGGTGGCTTGGTCCGAGCCCGGCTACCATCGGAGATGATTGCACTTAGGGCACATCCGGTATGCCCGATATAGCAGTAAAGATACGGAACCACTATAACCTCATCTGTGGTAAGTGGCACGGTCGCAGGAGTAACTAGCCCCCACGATGAGCTTCGGTCGTAAGGCAAAATTTCGCTTATATGCGAATTCACCTAGCGTTCGTCCAGTGGGGCGCGACACGATTACACGCTGCAACACTTCTAGGTGCCCACTCCCACCACCGCTACGGGACGCCTATCAAATCCGCGGTTAAAAAAGAGAAAACACCGCAGCATCTCTTACATAATGTGAGCTCTATCACAGGCTTCGCGCGAATATTGTCGCTTGTAATCGCTAAACACCGAGGCGGCTGTCAACTTACTAGTATTCAATGGGGACCGACCACGCTTACTCTTACAGATGGACGGTGAAATTGTGCAACCCGCTCATCCATCAGGGGACCATAAGAGAGACGCTAGGATTAAGAAGTCTGGGGTACATCAACTGGCCCGGTGCCACGTCGACTCTAAGGAATACGAATGGCGAAAAAGACTCCAGGAAGCTGTCCTCCACATATGAAGGATAGGAACCCCAAAAAATAAGCGGGTATCATAACCTTCGTGTCTAGTGGACATAGCGAGAAACTTAGTTACCAACTACCGGTACGCCATCGACATATCGATGTGCAGTAGCTCGTTGCCAATGGTGGTCATGTGCATGCCTGGCCCCGCCCGAATTAATGGTCATACCAGGTCTGTGAGAACGGATCACCCAAGTTCTGGGTTTCACACAAGTCGCGCCGAGCCCCCGACGCGGTGTGCCCAGTCATGACTATGACAGTAGTCGGTGTTATTAAAAGAGCGATCATAACGACAG\"\n",
    "u = \"\""
   ]
  },
  {
   "cell_type": "code",
   "execution_count": 15,
   "id": "2097870f",
   "metadata": {},
   "outputs": [
    {
     "name": "stdout",
     "output_type": "stream",
     "text": [
      "UACAGAGUAUCUCACUAUACGUUACACGAUACCGAUUGAGGACCUAUACUGACCCGCCCCCCGUGCCCCUCGGAGGUGGCUUGGUCCGAGCCCGGCUACCAUCGGAGAUGAUUGCACUUAGGGCACAUCCGGUAUGCCCGAUAUAGCAGUAAAGAUACGGAACCACUAUAACCUCAUCUGUGGUAAGUGGCACGGUCGCAGGAGUAACUAGCCCCCACGAUGAGCUUCGGUCGUAAGGCAAAAUUUCGCUUAUAUGCGAAUUCACCUAGCGUUCGUCCAGUGGGGCGCGACACGAUUACACGCUGCAACACUUCUAGGUGCCCACUCCCACCACCGCUACGGGACGCCUAUCAAAUCCGCGGUUAAAAAAGAGAAAACACCGCAGCAUCUCUUACAUAAUGUGAGCUCUAUCACAGGCUUCGCGCGAAUAUUGUCGCUUGUAAUCGCUAAACACCGAGGCGGCUGUCAACUUACUAGUAUUCAAUGGGGACCGACCACGCUUACUCUUACAGAUGGACGGUGAAAUUGUGCAACCCGCUCAUCCAUCAGGGGACCAUAAGAGAGACGCUAGGAUUAAGAAGUCUGGGGUACAUCAACUGGCCCGGUGCCACGUCGACUCUAAGGAAUACGAAUGGCGAAAAAGACUCCAGGAAGCUGUCCUCCACAUAUGAAGGAUAGGAACCCCAAAAAAUAAGCGGGUAUCAUAACCUUCGUGUCUAGUGGACAUAGCGAGAAACUUAGUUACCAACUACCGGUACGCCAUCGACAUAUCGAUGUGCAGUAGCUCGUUGCCAAUGGUGGUCAUGUGCAUGCCUGGCCCCGCCCGAAUUAAUGGUCAUACCAGGUCUGUGAGAACGGAUCACCCAAGUUCUGGGUUUCACACAAGUCGCGCCGAGCCCCCGACGCGGUGUGCCCAGUCAUGACUAUGACAGUAGUCGGUGUUAUUAAAAGAGCGAUCAUAACGACAG\n"
     ]
    }
   ],
   "source": [
    "for nucleotide in t:\n",
    "    if nucleotide == \"T\":\n",
    "        u += \"U\"\n",
    "    else:\n",
    "        u += nucleotide\n",
    "        \n",
    "print(u)"
   ]
  },
  {
   "cell_type": "markdown",
   "id": "cacab254",
   "metadata": {},
   "source": [
    "### Complementing a Strand of DNA\n",
    "\n",
    "**Problem:** In DNA strings, symbols 'A' and 'T' are complements of each other, as are 'C' and 'G'.\n",
    "\n",
    "The reverse complement of a DNA string s\n",
    " is the string sc\n",
    " formed by reversing the symbols of s\n",
    ", then taking the complement of each symbol (e.g., the reverse complement of \"GTCA\" is \"TGAC\").\n",
    "\n",
    "**Given:** A DNA string s\n",
    " of length at most 1000 bp.<br>\n",
    "**Return:** The reverse complement sc\n",
    " of s\n",
    "."
   ]
  },
  {
   "cell_type": "code",
   "execution_count": 21,
   "id": "6b5fffda",
   "metadata": {},
   "outputs": [],
   "source": [
    "s = \"TACCGCTACCATGAGCGGGCTGGCTAAAAGTGGGAGGCGGAGTCAACACCGTAGATGTACTGTGAAACTCACTGTTTCGAGATTCTACTGAAGTGTCTTCCACGGCCCTGCTCGCCAGTTTAGTTAGTTGTGCCTTCCGATTAGGGTTCATCTATACCAGTCGGGTGACGATCTGTTCCGATTGTTGATGGGCTAGGACGTAAATCAATCCGAGCCTTGCTCTTTCTGCCCCCGTCCGGGGTGTGATTCTGCGCGAGAGGGGTAATACGTTCGTGCTCTTTGAAAGCCTTTAGTAGTATTCACCAATATTACTCAAAACGACGCGGATGCCCAGTAATCATTTTTGATTACCTCCTACCGACGTTGCGGCATCCATACATATCACCAAAGTACAGTTTTTAAATAATTACGAAGGCGGTAATACTGCGTAACGCAAGCGATACAGCTGCTACTTACACAAGTATACCATTCCCTCTTAGATCGTCGGCCACTATCCGTACGATTCAGGACCAAAGGAAAGTCAAATTTGGTATAATGTACACTATAGAGCTATGGGCACTCAGTTCCTCGGCCCGGACAACCTCCATTCTATTGGATAGGATCCTGCTAAGGTAATACAATGACTAGCGAAGGGACGAAGCTCACGGCCCCACCCTCCAACGGGGCTTGCCCAGGTTTGAACACAGTAAGTTATCAACGTTTTTGAATTGAGGTTCGTCCCTTACTTATGTCGTACATTAATTACTTGGGGTGGAGATTTGAATACGTCCCTCACTGCAGTATCACATAGACATGCTAACGGA\"\n",
    "sc = \"\""
   ]
  },
  {
   "cell_type": "code",
   "execution_count": 22,
   "id": "867d7278",
   "metadata": {},
   "outputs": [
    {
     "name": "stdout",
     "output_type": "stream",
     "text": [
      "TCCGTTAGCATGTCTATGTGATACTGCAGTGAGGGACGTATTCAAATCTCCACCCCAAGTAATTAATGTACGACATAAGTAAGGGACGAACCTCAATTCAAAAACGTTGATAACTTACTGTGTTCAAACCTGGGCAAGCCCCGTTGGAGGGTGGGGCCGTGAGCTTCGTCCCTTCGCTAGTCATTGTATTACCTTAGCAGGATCCTATCCAATAGAATGGAGGTTGTCCGGGCCGAGGAACTGAGTGCCCATAGCTCTATAGTGTACATTATACCAAATTTGACTTTCCTTTGGTCCTGAATCGTACGGATAGTGGCCGACGATCTAAGAGGGAATGGTATACTTGTGTAAGTAGCAGCTGTATCGCTTGCGTTACGCAGTATTACCGCCTTCGTAATTATTTAAAAACTGTACTTTGGTGATATGTATGGATGCCGCAACGTCGGTAGGAGGTAATCAAAAATGATTACTGGGCATCCGCGTCGTTTTGAGTAATATTGGTGAATACTACTAAAGGCTTTCAAAGAGCACGAACGTATTACCCCTCTCGCGCAGAATCACACCCCGGACGGGGGCAGAAAGAGCAAGGCTCGGATTGATTTACGTCCTAGCCCATCAACAATCGGAACAGATCGTCACCCGACTGGTATAGATGAACCCTAATCGGAAGGCACAACTAACTAAACTGGCGAGCAGGGCCGTGGAAGACACTTCAGTAGAATCTCGAAACAGTGAGTTTCACAGTACATCTACGGTGTTGACTCCGCCTCCCACTTTTAGCCAGCCCGCTCATGGTAGCGGTA\n"
     ]
    }
   ],
   "source": [
    "for nucleotide in s:\n",
    "    if nucleotide == \"A\":\n",
    "        sc += \"T\"\n",
    "    elif nucleotide == \"C\":\n",
    "        sc += \"G\"\n",
    "    elif nucleotide == \"G\":\n",
    "        sc += \"C\"\n",
    "    elif nucleotide == \"T\":\n",
    "        sc += \"A\"\n",
    "sc = sc[::-1]\n",
    "\n",
    "print(sc)"
   ]
  },
  {
   "cell_type": "markdown",
   "id": "35549267",
   "metadata": {},
   "source": [
    "### Rabbits and Recurrence Relations\n",
    "\n",
    "**Problem:** A sequence is an ordered collection of objects (usually numbers), which are allowed to repeat. Sequences can be finite or infinite. Two examples are the finite sequence (π,−2–√,0,π)\n",
    " and the infinite sequence of odd numbers (1,3,5,7,9,…)\n",
    ". We use the notation an\n",
    " to represent the n\n",
    "-th term of a sequence.\n",
    "\n",
    "A recurrence relation is a way of defining the terms of a sequence with respect to the values of previous terms. In the case of Fibonacci's rabbits from the introduction, any given month will contain the rabbits that were alive the previous month, plus any new offspring. A key observation is that the number of offspring in any month is equal to the number of rabbits that were alive two months prior. As a result, if Fn\n",
    " represents the number of rabbit pairs alive after the n\n",
    "-th month, then we obtain the Fibonacci sequence having terms Fn\n",
    " that are defined by the recurrence relation Fn=Fn−1+Fn−2\n",
    " (with F1=F2=1\n",
    " to initiate the sequence). Although the sequence bears Fibonacci's name, it was known to Indian mathematicians over two millennia ago.\n",
    "\n",
    "When finding the n\n",
    "-th term of a sequence defined by a recurrence relation, we can simply use the recurrence relation to generate terms for progressively larger values of n\n",
    ". This problem introduces us to the computational technique of dynamic programming, which successively builds up solutions by using the answers to smaller cases.\n",
    "\n",
    "**Given:** Positive integers n≤40\n",
    " and k≤5\n",
    ".<br>\n",
    "**Return:** The total number of rabbit pairs that will be present after n\n",
    " months, if we begin with 1 pair and in each generation, every pair of reproduction-age rabbits produces a litter of k\n",
    " rabbit pairs (instead of only 1 pair)."
   ]
  },
  {
   "cell_type": "code",
   "execution_count": 33,
   "id": "884977e2",
   "metadata": {},
   "outputs": [],
   "source": [
    "n = 36\n",
    "k = 5"
   ]
  },
  {
   "cell_type": "code",
   "execution_count": 34,
   "id": "685ae0b4",
   "metadata": {},
   "outputs": [
    {
     "name": "stdout",
     "output_type": "stream",
     "text": [
      "[1, 1, 6, 11, 41, 96, 301, 781, 2286, 6191, 17621, 48576, 136681, 379561, 1062966, 2960771, 8275601, 23079456, 64457461, 179854741, 502142046, 1401415751, 3912125981, 10919204736, 30479834641, 85075858321, 237475031526, 662854323131, 1850229480761, 5164501096416, 14415648500221, 40238153982301, 112316396483406, 313507166394911, 875089148811941, 2442624980786496]\n"
     ]
    }
   ],
   "source": [
    "# create a list with the length of n to keep the rabbit counts\n",
    "# each element represents a month (initial = 1,1)\n",
    "rabbits = [1,1] + [0]*(n-2)\n",
    "for i in range(2,n):\n",
    "    rabbits[i] = rabbits[i-1] + rabbits[i-2]*k\n",
    "print(rabbits)"
   ]
  },
  {
   "cell_type": "markdown",
   "id": "72e9201a",
   "metadata": {},
   "source": [
    "### Transcribing DNA into RNA\n",
    "\n",
    "**Problem:** \n",
    "\n",
    "**Given:** \n",
    "**Return:** "
   ]
  },
  {
   "cell_type": "code",
   "execution_count": null,
   "id": "7387c7f9",
   "metadata": {},
   "outputs": [],
   "source": []
  },
  {
   "cell_type": "code",
   "execution_count": null,
   "id": "284348ea",
   "metadata": {},
   "outputs": [],
   "source": []
  },
  {
   "cell_type": "code",
   "execution_count": null,
   "id": "8b93e526",
   "metadata": {},
   "outputs": [],
   "source": []
  },
  {
   "cell_type": "code",
   "execution_count": null,
   "id": "4f98f395",
   "metadata": {},
   "outputs": [],
   "source": []
  },
  {
   "cell_type": "code",
   "execution_count": null,
   "id": "01932396",
   "metadata": {},
   "outputs": [],
   "source": []
  },
  {
   "cell_type": "code",
   "execution_count": null,
   "id": "bea03670",
   "metadata": {},
   "outputs": [],
   "source": []
  },
  {
   "cell_type": "code",
   "execution_count": null,
   "id": "4aa544f1",
   "metadata": {},
   "outputs": [],
   "source": []
  },
  {
   "cell_type": "code",
   "execution_count": null,
   "id": "1c818931",
   "metadata": {},
   "outputs": [],
   "source": []
  },
  {
   "cell_type": "code",
   "execution_count": null,
   "id": "4fef1267",
   "metadata": {},
   "outputs": [],
   "source": []
  },
  {
   "cell_type": "code",
   "execution_count": null,
   "id": "f22ba3ea",
   "metadata": {},
   "outputs": [],
   "source": []
  },
  {
   "cell_type": "code",
   "execution_count": null,
   "id": "e5409808",
   "metadata": {},
   "outputs": [],
   "source": []
  },
  {
   "cell_type": "code",
   "execution_count": null,
   "id": "b0f77cdc",
   "metadata": {},
   "outputs": [],
   "source": []
  },
  {
   "cell_type": "code",
   "execution_count": null,
   "id": "3a5da66d",
   "metadata": {},
   "outputs": [],
   "source": []
  },
  {
   "cell_type": "code",
   "execution_count": null,
   "id": "51b24a2d",
   "metadata": {},
   "outputs": [],
   "source": []
  },
  {
   "cell_type": "code",
   "execution_count": null,
   "id": "23f3b986",
   "metadata": {},
   "outputs": [],
   "source": []
  },
  {
   "cell_type": "code",
   "execution_count": null,
   "id": "c701feff",
   "metadata": {},
   "outputs": [],
   "source": []
  },
  {
   "cell_type": "code",
   "execution_count": null,
   "id": "bbd8b029",
   "metadata": {},
   "outputs": [],
   "source": []
  },
  {
   "cell_type": "code",
   "execution_count": null,
   "id": "30368b39",
   "metadata": {},
   "outputs": [],
   "source": []
  },
  {
   "cell_type": "code",
   "execution_count": null,
   "id": "94046e52",
   "metadata": {},
   "outputs": [],
   "source": []
  },
  {
   "cell_type": "code",
   "execution_count": null,
   "id": "6c9fa128",
   "metadata": {},
   "outputs": [],
   "source": []
  },
  {
   "cell_type": "code",
   "execution_count": null,
   "id": "014aa100",
   "metadata": {},
   "outputs": [],
   "source": []
  }
 ],
 "metadata": {
  "kernelspec": {
   "display_name": "Python 3 (ipykernel)",
   "language": "python",
   "name": "python3"
  },
  "language_info": {
   "codemirror_mode": {
    "name": "ipython",
    "version": 3
   },
   "file_extension": ".py",
   "mimetype": "text/x-python",
   "name": "python",
   "nbconvert_exporter": "python",
   "pygments_lexer": "ipython3",
   "version": "3.11.4"
  }
 },
 "nbformat": 4,
 "nbformat_minor": 5
}
