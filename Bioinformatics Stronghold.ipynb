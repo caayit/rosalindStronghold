{
 "cells": [
  {
   "cell_type": "markdown",
   "id": "55c6203c",
   "metadata": {},
   "source": [
    "### Counting DNA Nucleotides\n",
    "\n",
    "**Problem:** A string is simply an ordered collection of symbols selected from some alphabet and formed into a word; the length of a string is the number of symbols that it contains.\n",
    "\n",
    "An example of a length 21 DNA string (whose alphabet contains the symbols 'A', 'C', 'G', and 'T') is \"ATGCTTCAGAAAGGTCTTACG.\"\n",
    "\n",
    "**Given:** A DNA string s\n",
    " of length at most 1000 nt.<br>\n",
    "**Return:** Four integers (separated by spaces) counting the respective number of times that the symbols 'A', 'C', 'G', and 'T' occur in s\n",
    "."
   ]
  },
  {
   "cell_type": "code",
   "execution_count": 2,
   "id": "c4c000c2",
   "metadata": {},
   "outputs": [],
   "source": [
    "s = \"TAGTCTCACCCATTCCCGAGATGTAGGATTTCCGCGGCGGTCAGATTAGTCGCTCGTCCGAGTGAGTCAGTTGACCTAGCCGGTGGCGTCTTGATCGATAAAAAACGCCCCCAGGCCTGCGTTAGTTCCGCGCCTTCTTAGTCAATGGCTCGAATCCTCGCGAGCTGTCAAGCTGTTGCAGAAAATAATTTTTACTGTAAGACTCGTATAGTTCTGGCTAGGGCAGTATGCGACACTCAACCAATTGGACCGTCCATCGCGTTCTATGCGGAACCTTGTGCGAGTTGTTACTTGCGTAGCCAGCCATCGAGAATCGTATAACGGAGTTTCAACTTCTCTGAGACGCGGACTCTCCAATGACAGATCCCTTAACAATACGCCGGCCCAACTCTTCTTTAGACCCCAACGCGACTAGAGCTCTCTCAACGGGGAATGTCCTAACCAGGCGGGTCTACAGCGCTACATACAGGTAATGGAACGGTCTGGATGCCGTTAACATCCCGTAAATTACCCTGGGCTGACACTACACTACTTGGCTACACTGCTGGGATTCGCATTTTAGCAAGTATAGCATTACCGCGAAGTACGTTGGCTGAATAACTTTCTTTACCTGTATAGCAATATGAACAAGCTTCGAGGACTAGCGAACAAGTACTATGGCTACGGCCTCTCGCATAAACTTGAACGAGTGGTCGGGGACCAAGAAGCTCGCAGGTCAAACCCTCGATATAAAAGGTCTGGCCATCGCTAAGAGGAGACCAGACTTTTGAAATTTTCCGTCGCCAAAATTCAGAGGGTCACAGCGAGAGCTGTGAGTCCGTTCTCGGTTCATTTATATAGTAATGTGGGGCCGATCATCCGGGTTTAACTGCTCTCTTAGGTCCAGAAATGGGCAACGCACGAAC\""
   ]
  },
  {
   "cell_type": "code",
   "execution_count": 7,
   "id": "19e67bd9",
   "metadata": {},
   "outputs": [
    {
     "name": "stdout",
     "output_type": "stream",
     "text": [
      "228 232 219 226\n"
     ]
    }
   ],
   "source": [
    "n = {\"A\":0, \"C\":0, \"G\":0, \"T\":0}\n",
    "for nucleotide in s:\n",
    "    n[nucleotide] += 1\n",
    "    \n",
    "print(n[\"A\"], n[\"C\"], n[\"G\"], n[\"T\"])"
   ]
  },
  {
   "cell_type": "markdown",
   "id": "2b5d57e1",
   "metadata": {},
   "source": [
    "### Transcribing DNA into RNA\n",
    "\n",
    "**Problem:** An RNA string is a string formed from the alphabet containing 'A', 'C', 'G', and 'U'.\n",
    "\n",
    "Given a DNA string t\n",
    " corresponding to a coding strand, its transcribed RNA string u\n",
    " is formed by replacing all occurrences of 'T' in t\n",
    " with 'U' in u\n",
    ".\n",
    "\n",
    "**Given:** A DNA string t\n",
    " having length at most 1000 nt.<br>\n",
    "**Return:** Return: The transcribed RNA string of t\n",
    "."
   ]
  },
  {
   "cell_type": "code",
   "execution_count": 14,
   "id": "a34fd1c0",
   "metadata": {},
   "outputs": [],
   "source": [
    "t = \"TACAGAGTATCTCACTATACGTTACACGATACCGATTGAGGACCTATACTGACCCGCCCCCCGTGCCCCTCGGAGGTGGCTTGGTCCGAGCCCGGCTACCATCGGAGATGATTGCACTTAGGGCACATCCGGTATGCCCGATATAGCAGTAAAGATACGGAACCACTATAACCTCATCTGTGGTAAGTGGCACGGTCGCAGGAGTAACTAGCCCCCACGATGAGCTTCGGTCGTAAGGCAAAATTTCGCTTATATGCGAATTCACCTAGCGTTCGTCCAGTGGGGCGCGACACGATTACACGCTGCAACACTTCTAGGTGCCCACTCCCACCACCGCTACGGGACGCCTATCAAATCCGCGGTTAAAAAAGAGAAAACACCGCAGCATCTCTTACATAATGTGAGCTCTATCACAGGCTTCGCGCGAATATTGTCGCTTGTAATCGCTAAACACCGAGGCGGCTGTCAACTTACTAGTATTCAATGGGGACCGACCACGCTTACTCTTACAGATGGACGGTGAAATTGTGCAACCCGCTCATCCATCAGGGGACCATAAGAGAGACGCTAGGATTAAGAAGTCTGGGGTACATCAACTGGCCCGGTGCCACGTCGACTCTAAGGAATACGAATGGCGAAAAAGACTCCAGGAAGCTGTCCTCCACATATGAAGGATAGGAACCCCAAAAAATAAGCGGGTATCATAACCTTCGTGTCTAGTGGACATAGCGAGAAACTTAGTTACCAACTACCGGTACGCCATCGACATATCGATGTGCAGTAGCTCGTTGCCAATGGTGGTCATGTGCATGCCTGGCCCCGCCCGAATTAATGGTCATACCAGGTCTGTGAGAACGGATCACCCAAGTTCTGGGTTTCACACAAGTCGCGCCGAGCCCCCGACGCGGTGTGCCCAGTCATGACTATGACAGTAGTCGGTGTTATTAAAAGAGCGATCATAACGACAG\"\n",
    "u = \"\""
   ]
  },
  {
   "cell_type": "code",
   "execution_count": 15,
   "id": "52775727",
   "metadata": {},
   "outputs": [
    {
     "name": "stdout",
     "output_type": "stream",
     "text": [
      "UACAGAGUAUCUCACUAUACGUUACACGAUACCGAUUGAGGACCUAUACUGACCCGCCCCCCGUGCCCCUCGGAGGUGGCUUGGUCCGAGCCCGGCUACCAUCGGAGAUGAUUGCACUUAGGGCACAUCCGGUAUGCCCGAUAUAGCAGUAAAGAUACGGAACCACUAUAACCUCAUCUGUGGUAAGUGGCACGGUCGCAGGAGUAACUAGCCCCCACGAUGAGCUUCGGUCGUAAGGCAAAAUUUCGCUUAUAUGCGAAUUCACCUAGCGUUCGUCCAGUGGGGCGCGACACGAUUACACGCUGCAACACUUCUAGGUGCCCACUCCCACCACCGCUACGGGACGCCUAUCAAAUCCGCGGUUAAAAAAGAGAAAACACCGCAGCAUCUCUUACAUAAUGUGAGCUCUAUCACAGGCUUCGCGCGAAUAUUGUCGCUUGUAAUCGCUAAACACCGAGGCGGCUGUCAACUUACUAGUAUUCAAUGGGGACCGACCACGCUUACUCUUACAGAUGGACGGUGAAAUUGUGCAACCCGCUCAUCCAUCAGGGGACCAUAAGAGAGACGCUAGGAUUAAGAAGUCUGGGGUACAUCAACUGGCCCGGUGCCACGUCGACUCUAAGGAAUACGAAUGGCGAAAAAGACUCCAGGAAGCUGUCCUCCACAUAUGAAGGAUAGGAACCCCAAAAAAUAAGCGGGUAUCAUAACCUUCGUGUCUAGUGGACAUAGCGAGAAACUUAGUUACCAACUACCGGUACGCCAUCGACAUAUCGAUGUGCAGUAGCUCGUUGCCAAUGGUGGUCAUGUGCAUGCCUGGCCCCGCCCGAAUUAAUGGUCAUACCAGGUCUGUGAGAACGGAUCACCCAAGUUCUGGGUUUCACACAAGUCGCGCCGAGCCCCCGACGCGGUGUGCCCAGUCAUGACUAUGACAGUAGUCGGUGUUAUUAAAAGAGCGAUCAUAACGACAG\n"
     ]
    }
   ],
   "source": [
    "for nucleotide in t:\n",
    "    if nucleotide == \"T\":\n",
    "        u += \"U\"\n",
    "    else:\n",
    "        u += nucleotide\n",
    "        \n",
    "print(u)"
   ]
  },
  {
   "cell_type": "markdown",
   "id": "9c0bde19",
   "metadata": {},
   "source": [
    "### Complementing a Strand of DNA\n",
    "\n",
    "**Problem:** In DNA strings, symbols 'A' and 'T' are complements of each other, as are 'C' and 'G'.\n",
    "\n",
    "The reverse complement of a DNA string s\n",
    " is the string sc\n",
    " formed by reversing the symbols of s\n",
    ", then taking the complement of each symbol (e.g., the reverse complement of \"GTCA\" is \"TGAC\").\n",
    "\n",
    "**Given:** A DNA string s\n",
    " of length at most 1000 bp.<br>\n",
    "**Return:** The reverse complement sc\n",
    " of s\n",
    "."
   ]
  },
  {
   "cell_type": "code",
   "execution_count": 17,
   "id": "1b769cfd",
   "metadata": {},
   "outputs": [],
   "source": [
    "s = \"TTTGGAATGTGTCGTACAGGGCTTACAGGTCCTACTACCATCCCATACCGGCGGTTGACGGATGCAGCCGGGGAATTTACTGGGGAAGTATAGATTCCGACTTCTTAGGCAGTAAAAGATGGTAGTGCACCGTATTAGAAGAGTATAGGTCTTCAAGGGGGGACGCAAAGACGTTTTAACTATCTGCACCCAACGAGAGAGTGGTCTATCACGAATATAAGGTCTCATCCAAACTCGAACTACAGACCGGAAGGACAGCGGTAAGTAATAGAACCCAATACCCAGTCCATGTCAAGATCAGTTTCAAGGAGGCCTCGGACCCTCGTAACTGATGTGACCTGCTTCCTCGGGGCTAATATTAGCGCCACAGCTTAGGAAGTAGGGATTGTGCTTCTGTGTCATGCTCACCACACAAACCCAGTATTTTACGATTCGTGGTTTAGATACAGGTGTACGGAGCACACAGTTGGTTATATCTGTCCATGGCACCAGCGCGTTCATTGTAGCTGCCTACTGTACTGTACCAAAGCTCATCCTGACCCTATCCCGACCAACGTGCTAGTTGAGGCGCGATGCGACGACACTGGAAACTGACGTACGCGTGTTTACTTGTAGAACTAAATACATTGCCAGTTCGGGTGGGTTCTTGTGGACTACGTTGTAATGGTGCTTTTAGTGCCTATGTAATCCCTGGTTATAGACGTATCAGCCATCGCTCGAATCGGTGTGCCAGCGCTCGCGAATAATCTCGTCGGGACCCACAAGGCTAGATGCTTTCACGAACCATTTACGCTGTCCGGGGCACCGTTGGAGACCTGCAGGAGAACGTTCTATTCGGACTGAACATATACGATTAGACATGGGGTTTGCGTTGAAGCAACCCGTGGTCACTGAATTAGGCGACTTTCCTTCACCAGCACGTTTAAGTAGTGCCAAAGAAGCTAATCAAGCATCTAGAGCTGCAAGACCCGTCCA\"\n",
    "sc = \"\""
   ]
  },
  {
   "cell_type": "code",
   "execution_count": 20,
   "id": "93ec106b",
   "metadata": {},
   "outputs": [
    {
     "name": "stdout",
     "output_type": "stream",
     "text": [
      "TGGACGGGTCTTGCAGCTCTAGATGCTTGATTAGCTTCTTTGGCACTACTTAAACGTGCTGGTGAAGGAAAGTCGCCTAATTCAGTGACCACGGGTTGCTTCAACGCAAACCCCATGTCTAATCGTATATGTTCAGTCCGAATAGAACGTTCTCCTGCAGGTCTCCAACGGTGCCCCGGACAGCGTAAATGGTTCGTGAAAGCATCTAGCCTTGTGGGTCCCGACGAGATTATTCGCGAGCGCTGGCACACCGATTCGAGCGATGGCTGATACGTCTATAACCAGGGATTACATAGGCACTAAAAGCACCATTACAACGTAGTCCACAAGAACCCACCCGAACTGGCAATGTATTTAGTTCTACAAGTAAACACGCGTACGTCAGTTTCCAGTGTCGTCGCATCGCGCCTCAACTAGCACGTTGGTCGGGATAGGGTCAGGATGAGCTTTGGTACAGTACAGTAGGCAGCTACAATGAACGCGCTGGTGCCATGGACAGATATAACCAACTGTGTGCTCCGTACACCTGTATCTAAACCACGAATCGTAAAATACTGGGTTTGTGTGGTGAGCATGACACAGAAGCACAATCCCTACTTCCTAAGCTGTGGCGCTAATATTAGCCCCGAGGAAGCAGGTCACATCAGTTACGAGGGTCCGAGGCCTCCTTGAAACTGATCTTGACATGGACTGGGTATTGGGTTCTATTACTTACCGCTGTCCTTCCGGTCTGTAGTTCGAGTTTGGATGAGACCTTATATTCGTGATAGACCACTCTCTCGTTGGGTGCAGATAGTTAAAACGTCTTTGCGTCCCCCCTTGAAGACCTATACTCTTCTAATACGGTGCACTACCATCTTTTACTGCCTAAGAAGTCGGAATCTATACTTCCCCAGTAAATTCCCCGGCTGCATCCGTCAACCGCCGGTATGGGATGGTAGTAGGACCTGTAAGCCCTGTACGACACATTCCAAATGGACGGGTCTTGCAGCTCTAGATGCTTGATTAGCTTCTTTGGCACTACTTAAACGTGCTGGTGAAGGAAAGTCGCCTAATTCAGTGACCACGGGTTGCTTCAACGCAAACCCCATGTCTAATCGTATATGTTCAGTCCGAATAGAACGTTCTCCTGCAGGTCTCCAACGGTGCCCCGGACAGCGTAAATGGTTCGTGAAAGCATCTAGCCTTGTGGGTCCCGACGAGATTATTCGCGAGCGCTGGCACACCGATTCGAGCGATGGCTGATACGTCTATAACCAGGGATTACATAGGCACTAAAAGCACCATTACAACGTAGTCCACAAGAACCCACCCGAACTGGCAATGTATTTAGTTCTACAAGTAAACACGCGTACGTCAGTTTCCAGTGTCGTCGCATCGCGCCTCAACTAGCACGTTGGTCGGGATAGGGTCAGGATGAGCTTTGGTACAGTACAGTAGGCAGCTACAATGAACGCGCTGGTGCCATGGACAGATATAACCAACTGTGTGCTCCGTACACCTGTATCTAAACCACGAATCGTAAAATACTGGGTTTGTGTGGTGAGCATGACACAGAAGCACAATCCCTACTTCCTAAGCTGTGGCGCTAATATTAGCCCCGAGGAAGCAGGTCACATCAGTTACGAGGGTCCGAGGCCTCCTTGAAACTGATCTTGACATGGACTGGGTATTGGGTTCTATTACTTACCGCTGTCCTTCCGGTCTGTAGTTCGAGTTTGGATGAGACCTTATATTCGTGATAGACCACTCTCTCGTTGGGTGCAGATAGTTAAAACGTCTTTGCGTCCCCCCTTGAAGACCTATACTCTTCTAATACGGTGCACTACCATCTTTTACTGCCTAAGAAGTCGGAATCTATACTTCCCCAGTAAATTCCCCGGCTGCATCCGTCAACCGCCGGTATGGGATGGTAGTAGGACCTGTAAGCCCTGTACGACACATTCCAAA\n"
     ]
    }
   ],
   "source": [
    "for nucleotide in s:\n",
    "    if nucleotide == \"A\":\n",
    "        sc += \"T\"\n",
    "    elif nucleotide == \"C\":\n",
    "        sc += \"G\"\n",
    "    elif nucleotide == \"G\":\n",
    "        sc += \"C\"\n",
    "    elif nucleotide == \"T\":\n",
    "        sc += \"A\"\n",
    "sc = sc[::-1]\n",
    "\n",
    "print(sc)"
   ]
  },
  {
   "cell_type": "code",
   "execution_count": 19,
   "id": "a63ddc09",
   "metadata": {},
   "outputs": [
    {
     "name": "stdout",
     "output_type": "stream",
     "text": [
      "dlroW olleH\n"
     ]
    }
   ],
   "source": [
    "txt = \"Hello World\"[::-1]\n",
    "print(txt)"
   ]
  },
  {
   "cell_type": "code",
   "execution_count": null,
   "id": "8424d4e7",
   "metadata": {},
   "outputs": [],
   "source": []
  },
  {
   "cell_type": "markdown",
   "id": "da9866b8",
   "metadata": {},
   "source": [
    "### Transcribing DNA into RNA\n",
    "\n",
    "**Problem:** \n",
    "\n",
    "**Given:** \n",
    "**Return:** "
   ]
  },
  {
   "cell_type": "code",
   "execution_count": null,
   "id": "79a95489",
   "metadata": {},
   "outputs": [],
   "source": []
  },
  {
   "cell_type": "code",
   "execution_count": null,
   "id": "2da7c0cf",
   "metadata": {},
   "outputs": [],
   "source": []
  },
  {
   "cell_type": "code",
   "execution_count": null,
   "id": "7eda497b",
   "metadata": {},
   "outputs": [],
   "source": []
  },
  {
   "cell_type": "code",
   "execution_count": null,
   "id": "01a2953d",
   "metadata": {},
   "outputs": [],
   "source": []
  },
  {
   "cell_type": "code",
   "execution_count": null,
   "id": "ebcb0169",
   "metadata": {},
   "outputs": [],
   "source": []
  },
  {
   "cell_type": "code",
   "execution_count": null,
   "id": "8a3d3ca7",
   "metadata": {},
   "outputs": [],
   "source": []
  },
  {
   "cell_type": "code",
   "execution_count": null,
   "id": "1d95469d",
   "metadata": {},
   "outputs": [],
   "source": []
  },
  {
   "cell_type": "code",
   "execution_count": null,
   "id": "1b6de8e5",
   "metadata": {},
   "outputs": [],
   "source": []
  },
  {
   "cell_type": "code",
   "execution_count": null,
   "id": "6c3f4b29",
   "metadata": {},
   "outputs": [],
   "source": []
  },
  {
   "cell_type": "code",
   "execution_count": null,
   "id": "1dba462b",
   "metadata": {},
   "outputs": [],
   "source": []
  },
  {
   "cell_type": "code",
   "execution_count": null,
   "id": "080aaad0",
   "metadata": {},
   "outputs": [],
   "source": []
  },
  {
   "cell_type": "code",
   "execution_count": null,
   "id": "1eee74e5",
   "metadata": {},
   "outputs": [],
   "source": []
  },
  {
   "cell_type": "code",
   "execution_count": null,
   "id": "6618e33c",
   "metadata": {},
   "outputs": [],
   "source": []
  },
  {
   "cell_type": "code",
   "execution_count": null,
   "id": "a6716c37",
   "metadata": {},
   "outputs": [],
   "source": []
  },
  {
   "cell_type": "code",
   "execution_count": null,
   "id": "afd861ea",
   "metadata": {},
   "outputs": [],
   "source": []
  },
  {
   "cell_type": "code",
   "execution_count": null,
   "id": "c49febf6",
   "metadata": {},
   "outputs": [],
   "source": []
  },
  {
   "cell_type": "code",
   "execution_count": null,
   "id": "2c088caf",
   "metadata": {},
   "outputs": [],
   "source": []
  },
  {
   "cell_type": "code",
   "execution_count": null,
   "id": "19ca42a5",
   "metadata": {},
   "outputs": [],
   "source": []
  },
  {
   "cell_type": "code",
   "execution_count": null,
   "id": "e2e48ae9",
   "metadata": {},
   "outputs": [],
   "source": []
  },
  {
   "cell_type": "code",
   "execution_count": null,
   "id": "d2357078",
   "metadata": {},
   "outputs": [],
   "source": []
  },
  {
   "cell_type": "code",
   "execution_count": null,
   "id": "3023c84f",
   "metadata": {},
   "outputs": [],
   "source": []
  }
 ],
 "metadata": {
  "kernelspec": {
   "display_name": "Python 3 (ipykernel)",
   "language": "python",
   "name": "python3"
  },
  "language_info": {
   "codemirror_mode": {
    "name": "ipython",
    "version": 3
   },
   "file_extension": ".py",
   "mimetype": "text/x-python",
   "name": "python",
   "nbconvert_exporter": "python",
   "pygments_lexer": "ipython3",
   "version": "3.11.4"
  }
 },
 "nbformat": 4,
 "nbformat_minor": 5
}
