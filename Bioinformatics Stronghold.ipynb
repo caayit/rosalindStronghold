{
 "cells": [
  {
   "cell_type": "markdown",
   "id": "b6fe5ec1",
   "metadata": {},
   "source": [
    "### Counting DNA Nucleotides\n",
    "\n",
    "**Problem:** A string is simply an ordered collection of symbols selected from some alphabet and formed into a word; the length of a string is the number of symbols that it contains.\n",
    "\n",
    "An example of a length 21 DNA string (whose alphabet contains the symbols 'A', 'C', 'G', and 'T') is \"ATGCTTCAGAAAGGTCTTACG.\"\n",
    "\n",
    "**Given:** A DNA string s\n",
    " of length at most 1000 nt.<br>\n",
    "**Return:** Four integers (separated by spaces) counting the respective number of times that the symbols 'A', 'C', 'G', and 'T' occur in s\n",
    "."
   ]
  },
  {
   "cell_type": "code",
   "execution_count": 2,
   "id": "6a2a6260",
   "metadata": {},
   "outputs": [],
   "source": [
    "s = \"TAGTCTCACCCATTCCCGAGATGTAGGATTTCCGCGGCGGTCAGATTAGTCGCTCGTCCGAGTGAGTCAGTTGACCTAGCCGGTGGCGTCTTGATCGATAAAAAACGCCCCCAGGCCTGCGTTAGTTCCGCGCCTTCTTAGTCAATGGCTCGAATCCTCGCGAGCTGTCAAGCTGTTGCAGAAAATAATTTTTACTGTAAGACTCGTATAGTTCTGGCTAGGGCAGTATGCGACACTCAACCAATTGGACCGTCCATCGCGTTCTATGCGGAACCTTGTGCGAGTTGTTACTTGCGTAGCCAGCCATCGAGAATCGTATAACGGAGTTTCAACTTCTCTGAGACGCGGACTCTCCAATGACAGATCCCTTAACAATACGCCGGCCCAACTCTTCTTTAGACCCCAACGCGACTAGAGCTCTCTCAACGGGGAATGTCCTAACCAGGCGGGTCTACAGCGCTACATACAGGTAATGGAACGGTCTGGATGCCGTTAACATCCCGTAAATTACCCTGGGCTGACACTACACTACTTGGCTACACTGCTGGGATTCGCATTTTAGCAAGTATAGCATTACCGCGAAGTACGTTGGCTGAATAACTTTCTTTACCTGTATAGCAATATGAACAAGCTTCGAGGACTAGCGAACAAGTACTATGGCTACGGCCTCTCGCATAAACTTGAACGAGTGGTCGGGGACCAAGAAGCTCGCAGGTCAAACCCTCGATATAAAAGGTCTGGCCATCGCTAAGAGGAGACCAGACTTTTGAAATTTTCCGTCGCCAAAATTCAGAGGGTCACAGCGAGAGCTGTGAGTCCGTTCTCGGTTCATTTATATAGTAATGTGGGGCCGATCATCCGGGTTTAACTGCTCTCTTAGGTCCAGAAATGGGCAACGCACGAAC\""
   ]
  },
  {
   "cell_type": "code",
   "execution_count": null,
   "id": "e43d2d9a",
   "metadata": {},
   "outputs": [],
   "source": [
    "n = {A:0, C:0, G:0, T:0}\n",
    "for nucleotide in s.split():\n",
    "    n[nucleotide] += 1\n",
    "    \n",
    "print(n[A], n[C], n[G], n[T])"
   ]
  },
  {
   "cell_type": "code",
   "execution_count": null,
   "id": "e4111466",
   "metadata": {},
   "outputs": [],
   "source": []
  },
  {
   "cell_type": "code",
   "execution_count": null,
   "id": "d8178043",
   "metadata": {},
   "outputs": [],
   "source": []
  },
  {
   "cell_type": "code",
   "execution_count": null,
   "id": "7b7c6e16",
   "metadata": {},
   "outputs": [],
   "source": []
  },
  {
   "cell_type": "code",
   "execution_count": null,
   "id": "5fa0f90e",
   "metadata": {},
   "outputs": [],
   "source": []
  },
  {
   "cell_type": "code",
   "execution_count": null,
   "id": "f8d42701",
   "metadata": {},
   "outputs": [],
   "source": []
  },
  {
   "cell_type": "code",
   "execution_count": null,
   "id": "89f737e0",
   "metadata": {},
   "outputs": [],
   "source": []
  },
  {
   "cell_type": "code",
   "execution_count": null,
   "id": "6a2717bc",
   "metadata": {},
   "outputs": [],
   "source": []
  },
  {
   "cell_type": "code",
   "execution_count": null,
   "id": "42f22187",
   "metadata": {},
   "outputs": [],
   "source": []
  },
  {
   "cell_type": "code",
   "execution_count": null,
   "id": "4d6af10e",
   "metadata": {},
   "outputs": [],
   "source": []
  },
  {
   "cell_type": "code",
   "execution_count": null,
   "id": "f1b3bd7c",
   "metadata": {},
   "outputs": [],
   "source": []
  },
  {
   "cell_type": "code",
   "execution_count": null,
   "id": "4a251659",
   "metadata": {},
   "outputs": [],
   "source": []
  },
  {
   "cell_type": "code",
   "execution_count": null,
   "id": "d5bb97fe",
   "metadata": {},
   "outputs": [],
   "source": []
  },
  {
   "cell_type": "code",
   "execution_count": null,
   "id": "336bbea8",
   "metadata": {},
   "outputs": [],
   "source": []
  },
  {
   "cell_type": "code",
   "execution_count": null,
   "id": "d7504567",
   "metadata": {},
   "outputs": [],
   "source": []
  },
  {
   "cell_type": "code",
   "execution_count": null,
   "id": "e7a21b8a",
   "metadata": {},
   "outputs": [],
   "source": []
  },
  {
   "cell_type": "code",
   "execution_count": null,
   "id": "4739667e",
   "metadata": {},
   "outputs": [],
   "source": []
  },
  {
   "cell_type": "code",
   "execution_count": null,
   "id": "d3ccf5e5",
   "metadata": {},
   "outputs": [],
   "source": []
  },
  {
   "cell_type": "code",
   "execution_count": null,
   "id": "0ca634a9",
   "metadata": {},
   "outputs": [],
   "source": []
  },
  {
   "cell_type": "code",
   "execution_count": null,
   "id": "4ab355be",
   "metadata": {},
   "outputs": [],
   "source": []
  },
  {
   "cell_type": "code",
   "execution_count": null,
   "id": "e5736f03",
   "metadata": {},
   "outputs": [],
   "source": []
  },
  {
   "cell_type": "code",
   "execution_count": null,
   "id": "8c29a95d",
   "metadata": {},
   "outputs": [],
   "source": []
  },
  {
   "cell_type": "code",
   "execution_count": null,
   "id": "702306a3",
   "metadata": {},
   "outputs": [],
   "source": []
  },
  {
   "cell_type": "code",
   "execution_count": null,
   "id": "0d7ccc0d",
   "metadata": {},
   "outputs": [],
   "source": []
  },
  {
   "cell_type": "code",
   "execution_count": null,
   "id": "87acdfb9",
   "metadata": {},
   "outputs": [],
   "source": []
  },
  {
   "cell_type": "code",
   "execution_count": null,
   "id": "11b4fb0c",
   "metadata": {},
   "outputs": [],
   "source": []
  },
  {
   "cell_type": "code",
   "execution_count": null,
   "id": "5185d4b2",
   "metadata": {},
   "outputs": [],
   "source": []
  },
  {
   "cell_type": "code",
   "execution_count": null,
   "id": "2d5bb9ca",
   "metadata": {},
   "outputs": [],
   "source": []
  },
  {
   "cell_type": "code",
   "execution_count": null,
   "id": "c4ea7d89",
   "metadata": {},
   "outputs": [],
   "source": []
  },
  {
   "cell_type": "code",
   "execution_count": null,
   "id": "04b2c34d",
   "metadata": {},
   "outputs": [],
   "source": []
  },
  {
   "cell_type": "code",
   "execution_count": null,
   "id": "d83290e2",
   "metadata": {},
   "outputs": [],
   "source": []
  },
  {
   "cell_type": "code",
   "execution_count": null,
   "id": "8c82caec",
   "metadata": {},
   "outputs": [],
   "source": []
  }
 ],
 "metadata": {
  "kernelspec": {
   "display_name": "Python 3 (ipykernel)",
   "language": "python",
   "name": "python3"
  },
  "language_info": {
   "codemirror_mode": {
    "name": "ipython",
    "version": 3
   },
   "file_extension": ".py",
   "mimetype": "text/x-python",
   "name": "python",
   "nbconvert_exporter": "python",
   "pygments_lexer": "ipython3",
   "version": "3.11.4"
  }
 },
 "nbformat": 4,
 "nbformat_minor": 5
}
