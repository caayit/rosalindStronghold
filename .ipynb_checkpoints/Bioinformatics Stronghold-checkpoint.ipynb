{
 "cells": [
  {
   "cell_type": "markdown",
   "id": "002055aa",
   "metadata": {},
   "source": [
    "### Counting DNA Nucleotides\n",
    "\n",
    "**Problem:** A string is simply an ordered collection of symbols selected from some alphabet and formed into a word; the length of a string is the number of symbols that it contains.\n",
    "\n",
    "An example of a length 21 DNA string (whose alphabet contains the symbols 'A', 'C', 'G', and 'T') is \"ATGCTTCAGAAAGGTCTTACG.\"\n",
    "\n",
    "**Given:** A DNA string s\n",
    " of length at most 1000 nt.<br>\n",
    "**Return:** Four integers (separated by spaces) counting the respective number of times that the symbols 'A', 'C', 'G', and 'T' occur in s\n",
    "."
   ]
  },
  {
   "cell_type": "code",
   "execution_count": 2,
   "id": "2c46df23",
   "metadata": {},
   "outputs": [],
   "source": [
    "s = \"TAGTCTCACCCATTCCCGAGATGTAGGATTTCCGCGGCGGTCAGATTAGTCGCTCGTCCGAGTGAGTCAGTTGACCTAGCCGGTGGCGTCTTGATCGATAAAAAACGCCCCCAGGCCTGCGTTAGTTCCGCGCCTTCTTAGTCAATGGCTCGAATCCTCGCGAGCTGTCAAGCTGTTGCAGAAAATAATTTTTACTGTAAGACTCGTATAGTTCTGGCTAGGGCAGTATGCGACACTCAACCAATTGGACCGTCCATCGCGTTCTATGCGGAACCTTGTGCGAGTTGTTACTTGCGTAGCCAGCCATCGAGAATCGTATAACGGAGTTTCAACTTCTCTGAGACGCGGACTCTCCAATGACAGATCCCTTAACAATACGCCGGCCCAACTCTTCTTTAGACCCCAACGCGACTAGAGCTCTCTCAACGGGGAATGTCCTAACCAGGCGGGTCTACAGCGCTACATACAGGTAATGGAACGGTCTGGATGCCGTTAACATCCCGTAAATTACCCTGGGCTGACACTACACTACTTGGCTACACTGCTGGGATTCGCATTTTAGCAAGTATAGCATTACCGCGAAGTACGTTGGCTGAATAACTTTCTTTACCTGTATAGCAATATGAACAAGCTTCGAGGACTAGCGAACAAGTACTATGGCTACGGCCTCTCGCATAAACTTGAACGAGTGGTCGGGGACCAAGAAGCTCGCAGGTCAAACCCTCGATATAAAAGGTCTGGCCATCGCTAAGAGGAGACCAGACTTTTGAAATTTTCCGTCGCCAAAATTCAGAGGGTCACAGCGAGAGCTGTGAGTCCGTTCTCGGTTCATTTATATAGTAATGTGGGGCCGATCATCCGGGTTTAACTGCTCTCTTAGGTCCAGAAATGGGCAACGCACGAAC\""
   ]
  },
  {
   "cell_type": "code",
   "execution_count": 7,
   "id": "94c83cf5",
   "metadata": {},
   "outputs": [
    {
     "name": "stdout",
     "output_type": "stream",
     "text": [
      "228 232 219 226\n"
     ]
    }
   ],
   "source": [
    "# create a dictionary that holds the counts\n",
    "n = {\"A\":0, \"C\":0, \"G\":0, \"T\":0}\n",
    "\n",
    "# loop over the string\n",
    "for nucleotide in s:\n",
    "    n[nucleotide] += 1\n",
    "    \n",
    "print(n[\"A\"], n[\"C\"], n[\"G\"], n[\"T\"])"
   ]
  },
  {
   "cell_type": "markdown",
   "id": "30a71978",
   "metadata": {},
   "source": [
    "### Transcribing DNA into RNA\n",
    "\n",
    "**Problem:** An RNA string is a string formed from the alphabet containing 'A', 'C', 'G', and 'U'.\n",
    "\n",
    "Given a DNA string t\n",
    " corresponding to a coding strand, its transcribed RNA string u\n",
    " is formed by replacing all occurrences of 'T' in t\n",
    " with 'U' in u\n",
    ".\n",
    "\n",
    "**Given:** A DNA string t\n",
    " having length at most 1000 nt.<br>\n",
    "**Return:** Return: The transcribed RNA string of t\n",
    "."
   ]
  },
  {
   "cell_type": "code",
   "execution_count": 14,
   "id": "6a6b7c89",
   "metadata": {},
   "outputs": [],
   "source": [
    "t = \"TACAGAGTATCTCACTATACGTTACACGATACCGATTGAGGACCTATACTGACCCGCCCCCCGTGCCCCTCGGAGGTGGCTTGGTCCGAGCCCGGCTACCATCGGAGATGATTGCACTTAGGGCACATCCGGTATGCCCGATATAGCAGTAAAGATACGGAACCACTATAACCTCATCTGTGGTAAGTGGCACGGTCGCAGGAGTAACTAGCCCCCACGATGAGCTTCGGTCGTAAGGCAAAATTTCGCTTATATGCGAATTCACCTAGCGTTCGTCCAGTGGGGCGCGACACGATTACACGCTGCAACACTTCTAGGTGCCCACTCCCACCACCGCTACGGGACGCCTATCAAATCCGCGGTTAAAAAAGAGAAAACACCGCAGCATCTCTTACATAATGTGAGCTCTATCACAGGCTTCGCGCGAATATTGTCGCTTGTAATCGCTAAACACCGAGGCGGCTGTCAACTTACTAGTATTCAATGGGGACCGACCACGCTTACTCTTACAGATGGACGGTGAAATTGTGCAACCCGCTCATCCATCAGGGGACCATAAGAGAGACGCTAGGATTAAGAAGTCTGGGGTACATCAACTGGCCCGGTGCCACGTCGACTCTAAGGAATACGAATGGCGAAAAAGACTCCAGGAAGCTGTCCTCCACATATGAAGGATAGGAACCCCAAAAAATAAGCGGGTATCATAACCTTCGTGTCTAGTGGACATAGCGAGAAACTTAGTTACCAACTACCGGTACGCCATCGACATATCGATGTGCAGTAGCTCGTTGCCAATGGTGGTCATGTGCATGCCTGGCCCCGCCCGAATTAATGGTCATACCAGGTCTGTGAGAACGGATCACCCAAGTTCTGGGTTTCACACAAGTCGCGCCGAGCCCCCGACGCGGTGTGCCCAGTCATGACTATGACAGTAGTCGGTGTTATTAAAAGAGCGATCATAACGACAG\"\n",
    "u = \"\""
   ]
  },
  {
   "cell_type": "code",
   "execution_count": 15,
   "id": "3399f43d",
   "metadata": {},
   "outputs": [
    {
     "name": "stdout",
     "output_type": "stream",
     "text": [
      "UACAGAGUAUCUCACUAUACGUUACACGAUACCGAUUGAGGACCUAUACUGACCCGCCCCCCGUGCCCCUCGGAGGUGGCUUGGUCCGAGCCCGGCUACCAUCGGAGAUGAUUGCACUUAGGGCACAUCCGGUAUGCCCGAUAUAGCAGUAAAGAUACGGAACCACUAUAACCUCAUCUGUGGUAAGUGGCACGGUCGCAGGAGUAACUAGCCCCCACGAUGAGCUUCGGUCGUAAGGCAAAAUUUCGCUUAUAUGCGAAUUCACCUAGCGUUCGUCCAGUGGGGCGCGACACGAUUACACGCUGCAACACUUCUAGGUGCCCACUCCCACCACCGCUACGGGACGCCUAUCAAAUCCGCGGUUAAAAAAGAGAAAACACCGCAGCAUCUCUUACAUAAUGUGAGCUCUAUCACAGGCUUCGCGCGAAUAUUGUCGCUUGUAAUCGCUAAACACCGAGGCGGCUGUCAACUUACUAGUAUUCAAUGGGGACCGACCACGCUUACUCUUACAGAUGGACGGUGAAAUUGUGCAACCCGCUCAUCCAUCAGGGGACCAUAAGAGAGACGCUAGGAUUAAGAAGUCUGGGGUACAUCAACUGGCCCGGUGCCACGUCGACUCUAAGGAAUACGAAUGGCGAAAAAGACUCCAGGAAGCUGUCCUCCACAUAUGAAGGAUAGGAACCCCAAAAAAUAAGCGGGUAUCAUAACCUUCGUGUCUAGUGGACAUAGCGAGAAACUUAGUUACCAACUACCGGUACGCCAUCGACAUAUCGAUGUGCAGUAGCUCGUUGCCAAUGGUGGUCAUGUGCAUGCCUGGCCCCGCCCGAAUUAAUGGUCAUACCAGGUCUGUGAGAACGGAUCACCCAAGUUCUGGGUUUCACACAAGUCGCGCCGAGCCCCCGACGCGGUGUGCCCAGUCAUGACUAUGACAGUAGUCGGUGUUAUUAAAAGAGCGAUCAUAACGACAG\n"
     ]
    }
   ],
   "source": [
    "for nucleotide in t:\n",
    "    if nucleotide == \"T\":\n",
    "        u += \"U\"\n",
    "    else:\n",
    "        u += nucleotide\n",
    "        \n",
    "print(u)"
   ]
  },
  {
   "cell_type": "markdown",
   "id": "97b5370f",
   "metadata": {},
   "source": [
    "### Complementing a Strand of DNA\n",
    "\n",
    "**Problem:** In DNA strings, symbols 'A' and 'T' are complements of each other, as are 'C' and 'G'.\n",
    "\n",
    "The reverse complement of a DNA string s\n",
    " is the string sc\n",
    " formed by reversing the symbols of s\n",
    ", then taking the complement of each symbol (e.g., the reverse complement of \"GTCA\" is \"TGAC\").\n",
    "\n",
    "**Given:** A DNA string s\n",
    " of length at most 1000 bp.<br>\n",
    "**Return:** The reverse complement sc\n",
    " of s\n",
    "."
   ]
  },
  {
   "cell_type": "code",
   "execution_count": 21,
   "id": "51cf8420",
   "metadata": {},
   "outputs": [],
   "source": [
    "s = \"TACCGCTACCATGAGCGGGCTGGCTAAAAGTGGGAGGCGGAGTCAACACCGTAGATGTACTGTGAAACTCACTGTTTCGAGATTCTACTGAAGTGTCTTCCACGGCCCTGCTCGCCAGTTTAGTTAGTTGTGCCTTCCGATTAGGGTTCATCTATACCAGTCGGGTGACGATCTGTTCCGATTGTTGATGGGCTAGGACGTAAATCAATCCGAGCCTTGCTCTTTCTGCCCCCGTCCGGGGTGTGATTCTGCGCGAGAGGGGTAATACGTTCGTGCTCTTTGAAAGCCTTTAGTAGTATTCACCAATATTACTCAAAACGACGCGGATGCCCAGTAATCATTTTTGATTACCTCCTACCGACGTTGCGGCATCCATACATATCACCAAAGTACAGTTTTTAAATAATTACGAAGGCGGTAATACTGCGTAACGCAAGCGATACAGCTGCTACTTACACAAGTATACCATTCCCTCTTAGATCGTCGGCCACTATCCGTACGATTCAGGACCAAAGGAAAGTCAAATTTGGTATAATGTACACTATAGAGCTATGGGCACTCAGTTCCTCGGCCCGGACAACCTCCATTCTATTGGATAGGATCCTGCTAAGGTAATACAATGACTAGCGAAGGGACGAAGCTCACGGCCCCACCCTCCAACGGGGCTTGCCCAGGTTTGAACACAGTAAGTTATCAACGTTTTTGAATTGAGGTTCGTCCCTTACTTATGTCGTACATTAATTACTTGGGGTGGAGATTTGAATACGTCCCTCACTGCAGTATCACATAGACATGCTAACGGA\"\n",
    "sc = \"\""
   ]
  },
  {
   "cell_type": "code",
   "execution_count": 22,
   "id": "77ef357b",
   "metadata": {},
   "outputs": [
    {
     "name": "stdout",
     "output_type": "stream",
     "text": [
      "TCCGTTAGCATGTCTATGTGATACTGCAGTGAGGGACGTATTCAAATCTCCACCCCAAGTAATTAATGTACGACATAAGTAAGGGACGAACCTCAATTCAAAAACGTTGATAACTTACTGTGTTCAAACCTGGGCAAGCCCCGTTGGAGGGTGGGGCCGTGAGCTTCGTCCCTTCGCTAGTCATTGTATTACCTTAGCAGGATCCTATCCAATAGAATGGAGGTTGTCCGGGCCGAGGAACTGAGTGCCCATAGCTCTATAGTGTACATTATACCAAATTTGACTTTCCTTTGGTCCTGAATCGTACGGATAGTGGCCGACGATCTAAGAGGGAATGGTATACTTGTGTAAGTAGCAGCTGTATCGCTTGCGTTACGCAGTATTACCGCCTTCGTAATTATTTAAAAACTGTACTTTGGTGATATGTATGGATGCCGCAACGTCGGTAGGAGGTAATCAAAAATGATTACTGGGCATCCGCGTCGTTTTGAGTAATATTGGTGAATACTACTAAAGGCTTTCAAAGAGCACGAACGTATTACCCCTCTCGCGCAGAATCACACCCCGGACGGGGGCAGAAAGAGCAAGGCTCGGATTGATTTACGTCCTAGCCCATCAACAATCGGAACAGATCGTCACCCGACTGGTATAGATGAACCCTAATCGGAAGGCACAACTAACTAAACTGGCGAGCAGGGCCGTGGAAGACACTTCAGTAGAATCTCGAAACAGTGAGTTTCACAGTACATCTACGGTGTTGACTCCGCCTCCCACTTTTAGCCAGCCCGCTCATGGTAGCGGTA\n"
     ]
    }
   ],
   "source": [
    "for nucleotide in s:\n",
    "    if nucleotide == \"A\":\n",
    "        sc += \"T\"\n",
    "    elif nucleotide == \"C\":\n",
    "        sc += \"G\"\n",
    "    elif nucleotide == \"G\":\n",
    "        sc += \"C\"\n",
    "    elif nucleotide == \"T\":\n",
    "        sc += \"A\"\n",
    "sc = sc[::-1]\n",
    "\n",
    "print(sc)"
   ]
  },
  {
   "cell_type": "markdown",
   "id": "55fc010e",
   "metadata": {},
   "source": [
    "### Rabbits and Recurrence Relations\n",
    "\n",
    "**Problem:** A sequence is an ordered collection of objects (usually numbers), which are allowed to repeat. Sequences can be finite or infinite. Two examples are the finite sequence (π,−2–√,0,π)\n",
    " and the infinite sequence of odd numbers (1,3,5,7,9,…)\n",
    ". We use the notation an\n",
    " to represent the n\n",
    "-th term of a sequence.\n",
    "\n",
    "A recurrence relation is a way of defining the terms of a sequence with respect to the values of previous terms. In the case of Fibonacci's rabbits from the introduction, any given month will contain the rabbits that were alive the previous month, plus any new offspring. A key observation is that the number of offspring in any month is equal to the number of rabbits that were alive two months prior. As a result, if Fn\n",
    " represents the number of rabbit pairs alive after the n\n",
    "-th month, then we obtain the Fibonacci sequence having terms Fn\n",
    " that are defined by the recurrence relation Fn=Fn−1+Fn−2\n",
    " (with F1=F2=1\n",
    " to initiate the sequence). Although the sequence bears Fibonacci's name, it was known to Indian mathematicians over two millennia ago.\n",
    "\n",
    "When finding the n\n",
    "-th term of a sequence defined by a recurrence relation, we can simply use the recurrence relation to generate terms for progressively larger values of n\n",
    ". This problem introduces us to the computational technique of dynamic programming, which successively builds up solutions by using the answers to smaller cases.\n",
    "\n",
    "**Given:** Positive integers n≤40\n",
    " and k≤5\n",
    ".<br>\n",
    "**Return:** The total number of rabbit pairs that will be present after n\n",
    " months, if we begin with 1 pair and in each generation, every pair of reproduction-age rabbits produces a litter of k\n",
    " rabbit pairs (instead of only 1 pair)."
   ]
  },
  {
   "cell_type": "code",
   "execution_count": 33,
   "id": "8273cfb3",
   "metadata": {},
   "outputs": [],
   "source": [
    "n = 36\n",
    "k = 5"
   ]
  },
  {
   "cell_type": "code",
   "execution_count": 37,
   "id": "08ec848c",
   "metadata": {},
   "outputs": [
    {
     "name": "stdout",
     "output_type": "stream",
     "text": [
      "[1, 1, 6, 11, 41, 96, 301, 781, 2286, 6191, 17621, 48576, 136681, 379561, 1062966, 2960771, 8275601, 23079456, 64457461, 179854741, 502142046, 1401415751, 3912125981, 10919204736, 30479834641, 85075858321, 237475031526, 662854323131, 1850229480761, 5164501096416, 14415648500221, 40238153982301, 112316396483406, 313507166394911, 875089148811941, 2442624980786496]\n",
      "\n",
      " 2442624980786496\n"
     ]
    }
   ],
   "source": [
    "# create a list with the length of n to keep the rabbit counts\n",
    "# each element represents a month (initial = 1,1)\n",
    "rabbits = [1,1] + [0]*(n-2)\n",
    "\n",
    "\n",
    "for i in range(2,n):\n",
    "    # 2-months-old rabbits are reproductive\n",
    "    rabbits[i] = rabbits[i-1] + rabbits[i-2]*k\n",
    "print(rabbits)\n",
    "print(\"\\n\", rabbits[-1])"
   ]
  },
  {
   "cell_type": "markdown",
   "id": "667ba9df",
   "metadata": {},
   "source": [
    "### Computing GC Content\n",
    "\n",
    "**Problem:** The GC-content of a DNA string is given by the percentage of symbols in the string that are 'C' or 'G'. For example, the GC-content of \"AGCTATAG\" is 37.5%. Note that the reverse complement of any DNA string has the same GC-content.\n",
    "\n",
    "DNA strings must be labeled when they are consolidated into a database. A commonly used method of string labeling is called FASTA format. In this format, the string is introduced by a line that begins with '>', followed by some labeling information. Subsequent lines contain the string itself; the first line to begin with '>' indicates the label of the next string.\n",
    "\n",
    "In Rosalind's implementation, a string in FASTA format will be labeled by the ID \"Rosalind_xxxx\", where \"xxxx\" denotes a four-digit code between 0000 and 9999.\n",
    "\n",
    "**Given:** At most 10 DNA strings in FASTA format (of length at most 1 kbp each).<br>\n",
    "**Return:** The ID of the string having the highest GC-content, followed by the GC-content of that string. Rosalind allows for a default error of 0.001 in all decimal answers unless otherwise stated; please see the note on absolute error below."
   ]
  },
  {
   "cell_type": "code",
   "execution_count": 22,
   "id": "914c6fa0",
   "metadata": {},
   "outputs": [],
   "source": [
    "f = open('../../../Downloads/rosalind_gc.txt')\n",
    "fasta = [line.strip() for line in f.readlines()]\n",
    "f.close()"
   ]
  },
  {
   "cell_type": "code",
   "execution_count": 23,
   "id": "4e3429d5",
   "metadata": {},
   "outputs": [],
   "source": [
    "# create a container for sequence info\n",
    "seqdata = []\n",
    "\n",
    "# iterate over the lines of the fasta file\n",
    "for line in fasta:\n",
    "    \n",
    "    # check whether the line is a sequence header\n",
    "    if line[0] == '>':\n",
    "        # add the header as the first element of a list\n",
    "        # The rest are: A, C, G, T\n",
    "        seqdata.append([line, 0, 0, 0, 0])\n",
    "    else:\n",
    "        for nucleotide in line:\n",
    "            if nucleotide == 'A':\n",
    "                seqdata[-1][1] += 1\n",
    "            elif nucleotide == 'C':\n",
    "                seqdata[-1][2] += 1\n",
    "            elif nucleotide == 'G':\n",
    "                seqdata[-1][3] += 1\n",
    "            else:\n",
    "                seqdata[-1][4] += 1            "
   ]
  },
  {
   "cell_type": "code",
   "execution_count": 24,
   "id": "4053bed4",
   "metadata": {},
   "outputs": [
    {
     "data": {
      "text/plain": [
       "[['>Rosalind_1954', 237, 250, 250, 221],\n",
       " ['>Rosalind_1382', 243, 221, 199, 220],\n",
       " ['>Rosalind_1135', 208, 214, 232, 215],\n",
       " ['>Rosalind_3135', 222, 226, 235, 204],\n",
       " ['>Rosalind_7372', 228, 257, 259, 245],\n",
       " ['>Rosalind_1078', 226, 241, 202, 227]]"
      ]
     },
     "execution_count": 24,
     "metadata": {},
     "output_type": "execute_result"
    }
   ],
   "source": [
    "seqdata"
   ]
  },
  {
   "cell_type": "code",
   "execution_count": 25,
   "id": "e4920350",
   "metadata": {},
   "outputs": [
    {
     "name": "stdout",
     "output_type": "stream",
     "text": [
      "Rosalind_1954\n",
      "52.19206680584551\n",
      "Rosalind_1382\n",
      "47.56511891279728\n",
      "Rosalind_1135\n",
      "51.32336018411968\n",
      "Rosalind_3135\n",
      "51.97294250281848\n",
      "Rosalind_7372\n",
      "52.17391304347826\n",
      "Rosalind_1078\n",
      "49.441964285714285\n"
     ]
    }
   ],
   "source": [
    "# calculate the GC content\n",
    "for seq in seqdata:\n",
    "    print(seq[0][1:])\n",
    "    gc_count = seq[2] + seq[3]\n",
    "    nucleotide_count = seq[1] + gc_count + seq[4]\n",
    "    gc_percent = gc_count/nucleotide_count * 100\n",
    "    print(gc_percent)"
   ]
  },
  {
   "cell_type": "code",
   "execution_count": 26,
   "id": "e61c6b40",
   "metadata": {},
   "outputs": [],
   "source": [
    "# not adding a way to find the highest value automatically as it is not neccessary"
   ]
  },
  {
   "cell_type": "markdown",
   "id": "4160899c",
   "metadata": {},
   "source": [
    "### Counting Point Mutations\n",
    "\n",
    "**Problem:** Given two strings s and t of equal length, the Hamming distance between s and t, denoted dH(s,t), is the number of corresponding symbols that differ in s and t. See Figure 2.\n",
    "\n",
    "**Given:** Two DNA strings s and t of equal length (not exceeding 1 kbp).<br>\n",
    "**Return:** The Hamming distance dH(s,t)."
   ]
  },
  {
   "cell_type": "code",
   "execution_count": 30,
   "id": "2935dfa9",
   "metadata": {},
   "outputs": [],
   "source": [
    "f = open('../../../Downloads/rosalind_hamm.txt')\n",
    "sequences = [line.strip() for line in f]\n",
    "f.close()\n",
    "\n",
    "s = sequences[0]\n",
    "t = sequences[1]"
   ]
  },
  {
   "cell_type": "code",
   "execution_count": 32,
   "id": "d7ff54c9",
   "metadata": {},
   "outputs": [],
   "source": [
    "distance = 0\n",
    "for i in range(len(s)):\n",
    "    # Take the sum of \"not equal\" comparisons\n",
    "    distance += (s[i] != t[i])"
   ]
  },
  {
   "cell_type": "code",
   "execution_count": 33,
   "id": "2a5231bd",
   "metadata": {},
   "outputs": [
    {
     "data": {
      "text/plain": [
       "482"
      ]
     },
     "execution_count": 33,
     "metadata": {},
     "output_type": "execute_result"
    }
   ],
   "source": [
    "distance"
   ]
  },
  {
   "cell_type": "markdown",
   "id": "03f9b66f",
   "metadata": {},
   "source": [
    "### Mendel's First Law\n",
    "\n",
    "**Problem:** Probability is the mathematical study of randomly occurring phenomena. We will model such a phenomenon with a random variable, which is simply a variable that can take a number of different distinct outcomes depending on the result of an underlying random process.\n",
    "\n",
    "For example, say that we have a bag containing 3 red balls and 2 blue balls. If we let X represent the random variable corresponding to the color of a drawn ball, then the probability of each of the two outcomes is given by Pr(X=red)=3/5 and Pr(X=blue)=2/5.\n",
    "\n",
    "Random variables can be combined to yield new random variables. Returning to the ball example, let Y\n",
    "model the color of a second ball drawn from the bag (without replacing the first ball). The probability of Y being red depends on whether the first ball was red or blue. To represent all outcomes of X and Y, we therefore use a probability tree diagram. This branching diagram represents all possible individual probabilities for X and Y, with outcomes at the endpoints (\"leaves\") of the tree. The probability of any outcome is given by the product of probabilities along the path from the beginning of the tree; see Figure 2 for an illustrative example.\n",
    "\n",
    "An event is simply a collection of outcomes. Because outcomes are distinct, the probability of an event can be written as the sum of the probabilities of its constituent outcomes. For our colored ball example, let A be the event \"Y is blue.\" Pr(A) is equal to the sum of the probabilities of two different outcomes: Pr(X=blue and Y=blue)+Pr(X=red and Y=blue), or 3/10+1/10=2/5.\n",
    "\n",
    "**Given:** Three positive integers k, m, and n, representing a population containing k+m+n organisms: k individuals are homozygous dominant for a factor, m are heterozygous, and n are homozygous recessive.<br>\n",
    "**Return:** The probability that two randomly selected mating organisms will produce an individual possessing a dominant allele (and thus displaying the dominant phenotype). Assume that any two organisms can mate."
   ]
  },
  {
   "cell_type": "code",
   "execution_count": 3,
   "id": "acacd156",
   "metadata": {},
   "outputs": [],
   "source": [
    "###"
   ]
  },
  {
   "cell_type": "code",
   "execution_count": null,
   "id": "bc6cad3f",
   "metadata": {},
   "outputs": [],
   "source": []
  },
  {
   "cell_type": "code",
   "execution_count": null,
   "id": "6dc63cd4",
   "metadata": {},
   "outputs": [],
   "source": []
  },
  {
   "cell_type": "code",
   "execution_count": null,
   "id": "6c875de7",
   "metadata": {},
   "outputs": [],
   "source": []
  },
  {
   "cell_type": "code",
   "execution_count": null,
   "id": "ac3a9ee2",
   "metadata": {},
   "outputs": [],
   "source": []
  },
  {
   "cell_type": "code",
   "execution_count": null,
   "id": "c421d1e2",
   "metadata": {},
   "outputs": [],
   "source": []
  },
  {
   "cell_type": "code",
   "execution_count": null,
   "id": "4f887b14",
   "metadata": {},
   "outputs": [],
   "source": []
  },
  {
   "cell_type": "code",
   "execution_count": null,
   "id": "1375864d",
   "metadata": {},
   "outputs": [],
   "source": []
  },
  {
   "cell_type": "code",
   "execution_count": null,
   "id": "197d3b16",
   "metadata": {},
   "outputs": [],
   "source": []
  },
  {
   "cell_type": "code",
   "execution_count": null,
   "id": "d4bafda8",
   "metadata": {},
   "outputs": [],
   "source": []
  }
 ],
 "metadata": {
  "kernelspec": {
   "display_name": "Python 3 (ipykernel)",
   "language": "python",
   "name": "python3"
  },
  "language_info": {
   "codemirror_mode": {
    "name": "ipython",
    "version": 3
   },
   "file_extension": ".py",
   "mimetype": "text/x-python",
   "name": "python",
   "nbconvert_exporter": "python",
   "pygments_lexer": "ipython3",
   "version": "3.11.4"
  }
 },
 "nbformat": 4,
 "nbformat_minor": 5
}
